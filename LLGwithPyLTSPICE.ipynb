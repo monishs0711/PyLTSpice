{
 "cells": [
  {
   "cell_type": "markdown",
   "id": "747cbf0c",
   "metadata": {},
   "source": [
    "#                   Landau-Lifshitz-Gilbert Equation solver using PyLTSPICE \n",
    "This will contain all the work put up to solve the LLG equation (both NOISELESS and with THERMAL NOISE-(white and gaussian)).\n",
    "Below given links shall include notebooks to understand the method from the scratch.\n",
    "\n",
    "Note: The LLG solver equations have been extracted from Camsari's work, which gives the general framework for SPICE simulators, but we are dealing with LTSPICE. The links for the same are attached."
   ]
  },
  {
   "cell_type": "markdown",
   "id": "be88b95e",
   "metadata": {},
   "source": [
    "## INDEX-->"
   ]
  },
  {
   "cell_type": "markdown",
   "id": "d898f036",
   "metadata": {},
   "source": [
    "### Resources\n",
    "--[LLGsolver](https://nanohub.org/groups/spintronics/llg_solver)       \n",
    "--[ThermalNoise](https://nanohub.org/groups/spintronics/llg_thermal_noise)    \n",
    "--[LTSPICE documentation](https://www.google.com/url?sa=t&source=web&rct=j&opi=89978449&url=https://ltwiki.org/files/LTspiceHelp.chm/html/LT_spice_overview.htm&ved=2ahUKEwiw9Lvi6KOHAxWOj68BHZEQJRoQFnoECBIQAQ&usg=AOvVaw31ZJUfu8kDtzM3ZVYelMUH)    \n",
    "--[PyLTSpice documentation](https://www.google.com/url?sa=t&source=web&rct=j&opi=89978449&url=https://pyltspice.readthedocs.io/&ved=2ahUKEwjN6br56KOHAxXYQPUHHTfSBOcQFnoECBsQAQ&usg=AOvVaw1Q3c8OGP0gx1qz-fo_DIUY)   \n",
    "-for linux systems, use jupyter via anaconda, and install LTspice through wine. \n",
    "For any doubts, only Documentation is of help.\n"
   ]
  },
  {
   "cell_type": "markdown",
   "id": "bebd3ac5",
   "metadata": {},
   "source": [
    "## 1) LLG (noiseless) Solver Circuit\n",
    "- [LLGnoiseless](1_LLGnoiseless/LLGnoiseless.ipynb)  \n",
    "#### NOTE THAT: in order to understand the PyLTSpice library, go thorugh this notebook STEP-BY-STEP.\n"
   ]
  },
  {
   "cell_type": "markdown",
   "id": "8945b3fb",
   "metadata": {},
   "source": [
    "## 2) Switching without noise\n",
    "- [NoiselessSwitch(spin current given)](2_switchingnoiseless/switchingwithtime.ipynb)  "
   ]
  },
  {
   "cell_type": "markdown",
   "id": "fab00312",
   "metadata": {},
   "source": [
    "## 3) INTRO to ThermalNoise \n",
    "- [THERMAL Noise](3_thermalnoise/thermalnoise.ipynb)     \n",
    "### Note: I have used Numpy to generate a random noise (white,gaussian) and have passed it as current across a resistor of 1ohm, hence the voltage generated acorss this node controls ONE of the current (VCCS) sources and thus acting as noise to the system."
   ]
  },
  {
   "cell_type": "markdown",
   "id": "dbda0e9b",
   "metadata": {},
   "source": [
    "### 4) Noise benchmarking\n",
    "- [(NOISE Benchmarking)](4_noisebenchmark/noisebenchmark.ipynb)  \n",
    "#### Contains MZ with time under no external conditions, BOLTZMANN Tail, SWITCHING WITH Ic and ThermalNoise"
   ]
  },
  {
   "cell_type": "markdown",
   "id": "0f7b3767",
   "metadata": {},
   "source": [
    "### 5) Probability\n",
    "- [Probability of switching](5_probability/probability.ipynb)  \n",
    "#### Have tried using MPI4py for paralellizing using distributed computing technique.\n"
   ]
  },
  {
   "cell_type": "code",
   "execution_count": null,
   "id": "ac0af151",
   "metadata": {},
   "outputs": [],
   "source": []
  }
 ],
 "metadata": {
  "kernelspec": {
   "display_name": "Python 3 (ipykernel)",
   "language": "python",
   "name": "python3"
  },
  "language_info": {
   "codemirror_mode": {
    "name": "ipython",
    "version": 3
   },
   "file_extension": ".py",
   "mimetype": "text/x-python",
   "name": "python",
   "nbconvert_exporter": "python",
   "pygments_lexer": "ipython3",
   "version": "3.11.7"
  }
 },
 "nbformat": 4,
 "nbformat_minor": 5
}
